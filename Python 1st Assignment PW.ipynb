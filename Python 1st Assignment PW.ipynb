{
 "cells": [
  {
   "cell_type": "code",
   "execution_count": 3,
   "id": "d38fabd0",
   "metadata": {},
   "outputs": [],
   "source": [
    "#Q1. Write all the conventions being followed while declaring a variable.\n",
    "# Ans. 1) A Variable name must start with a letter or the underscore character.\n",
    "#      2) A Variable name cannot start with a number.\n",
    "#      3) A Variable name can only contain Alpha-Numeric Characters and underscore (A-Z, 0-9, _)."
   ]
  },
  {
   "cell_type": "code",
   "execution_count": 4,
   "id": "dfb52b1c",
   "metadata": {},
   "outputs": [],
   "source": [
    "# Q2. What will happen if we declare a restricted keyword as a variable?\n",
    "# Ans. We will get a syntax error."
   ]
  },
  {
   "cell_type": "code",
   "execution_count": 5,
   "id": "fa59ea46",
   "metadata": {},
   "outputs": [],
   "source": [
    "#Q3. Can we actually declare a string as a variable name?\n",
    "# Ans. Instead of using locals() and globals() function to convert string to variable name in python we can also use the vars()\n",
    "# function."
   ]
  },
  {
   "cell_type": "code",
   "execution_count": 6,
   "id": "4cef15bd",
   "metadata": {},
   "outputs": [
    {
     "name": "stdout",
     "output_type": "stream",
     "text": [
      "10\n"
     ]
    }
   ],
   "source": [
    "# Q4. Is it possible for us to declare “_” as a variable? If so, then write an example of it.\n",
    "#Ans. Yes, we can declare \"_\" as a variable. Example is as follows-\n",
    "_ = 10\n",
    "print(_)"
   ]
  },
  {
   "cell_type": "code",
   "execution_count": 7,
   "id": "e7dab750",
   "metadata": {},
   "outputs": [
    {
     "name": "stdout",
     "output_type": "stream",
     "text": [
      "10\n",
      "Hello, World!\n"
     ]
    }
   ],
   "source": [
    "#Q5. Using an example, explain how the variables in python are dynamic in nature.\n",
    "#Ans. \n",
    "# Assign an integer value to the variable \"x\"\n",
    "x = 10\n",
    "print(x)  # Output: 10\n",
    "\n",
    "# Assign a string value to the same variable \"x\"\n",
    "x = \"Hello, World!\"\n",
    "print(x)  # Output: Hello, World!\n"
   ]
  },
  {
   "cell_type": "code",
   "execution_count": null,
   "id": "ee9fa1ef",
   "metadata": {},
   "outputs": [],
   "source": []
  }
 ],
 "metadata": {
  "kernelspec": {
   "display_name": "Python 3 (ipykernel)",
   "language": "python",
   "name": "python3"
  },
  "language_info": {
   "codemirror_mode": {
    "name": "ipython",
    "version": 3
   },
   "file_extension": ".py",
   "mimetype": "text/x-python",
   "name": "python",
   "nbconvert_exporter": "python",
   "pygments_lexer": "ipython3",
   "version": "3.10.9"
  }
 },
 "nbformat": 4,
 "nbformat_minor": 5
}
