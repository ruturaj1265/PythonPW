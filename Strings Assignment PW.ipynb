{
 "cells": [
  {
   "cell_type": "code",
   "execution_count": 3,
   "id": "2c6f542f",
   "metadata": {},
   "outputs": [
    {
     "name": "stdout",
     "output_type": "stream",
     "text": [
      " ' \n"
     ]
    }
   ],
   "source": [
    "# Q1 How can we store a s1ngle quote (‘) as a str1ng 1n a var1able?\n",
    "d = \" ' \"\n",
    "print(d)"
   ]
  },
  {
   "cell_type": "code",
   "execution_count": 4,
   "id": "62ea7c49",
   "metadata": {},
   "outputs": [
    {
     "name": "stdout",
     "output_type": "stream",
     "text": [
      "<class 'str'>\n"
     ]
    }
   ],
   "source": [
    "# Q2. Refer the below var1able:\n",
    "# x = ‘a'\n",
    "# Here, is x a character type or str1ng type var1able? Support your answer w1th an explanat1on.\n",
    "#'a' is a string type variable because it is stored in a variable.\n",
    "x = 'a'\n",
    "print(type(x))"
   ]
  },
  {
   "cell_type": "code",
   "execution_count": 17,
   "id": "8ca72c02",
   "metadata": {},
   "outputs": [
    {
     "name": "stdout",
     "output_type": "stream",
     "text": [
      "11\n",
      "3\n",
      "35\n",
      "Welcome python foundation Cource\n"
     ]
    }
   ],
   "source": [
    "# Q2 Apply the follow1ng funct1ons on th1s var1able: ‘Welcome to Python foundat1on course'\n",
    "# find()\n",
    "# count()\n",
    "#len()\n",
    "# concatenation\n",
    "# Note: You can use your cho1ce of parametersQ But make sure 1t 1s correct.\n",
    "name =  'Welcome to python foundat1on course'\n",
    "print(name.find(\"python\"))\n",
    "print(name.count('t'))\n",
    "print(len(name))\n",
    "s = \"Welcome python foundation\"\n",
    "q = \"Cource\"\n",
    "z = s + ' ' + q\n",
    "print(z)"
   ]
  },
  {
   "cell_type": "code",
   "execution_count": 18,
   "id": "e87d5734",
   "metadata": {},
   "outputs": [
    {
     "name": "stdout",
     "output_type": "stream",
     "text": [
      "5\n",
      "<class 'str'>\n"
     ]
    }
   ],
   "source": [
    "# Q5 Wr1te a co e to store a numer1cal value 1ns1 e a var1able then convert 1t 1nto string\n",
    "a  = '5'\n",
    "print(a)\n",
    "print(type(a))"
   ]
  },
  {
   "cell_type": "code",
   "execution_count": null,
   "id": "45343314",
   "metadata": {},
   "outputs": [],
   "source": []
  }
 ],
 "metadata": {
  "kernelspec": {
   "display_name": "Python 3 (ipykernel)",
   "language": "python",
   "name": "python3"
  },
  "language_info": {
   "codemirror_mode": {
    "name": "ipython",
    "version": 3
   },
   "file_extension": ".py",
   "mimetype": "text/x-python",
   "name": "python",
   "nbconvert_exporter": "python",
   "pygments_lexer": "ipython3",
   "version": "3.10.9"
  }
 },
 "nbformat": 4,
 "nbformat_minor": 5
}
