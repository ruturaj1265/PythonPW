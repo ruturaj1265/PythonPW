{
 "cells": [
  {
   "cell_type": "code",
   "execution_count": 5,
   "id": "23e20f88",
   "metadata": {},
   "outputs": [
    {
     "name": "stdout",
     "output_type": "stream",
     "text": [
      "[]\n",
      "<class 'list'>\n"
     ]
    }
   ],
   "source": [
    "#Q1. Create an empty list.\n",
    "d = []\n",
    "print(d)\n",
    "print(type(d))"
   ]
  },
  {
   "cell_type": "code",
   "execution_count": 6,
   "id": "23c65e00",
   "metadata": {},
   "outputs": [
    {
     "name": "stdout",
     "output_type": "stream",
     "text": [
      "['Orange', 'Banana', 'Apple', 'Dragon Fruit', 'Watermelon']\n"
     ]
    }
   ],
   "source": [
    "#Q2. Create a list and add an element to the end of this list.\n",
    "\n",
    "d = [\"Orange\", \"Banana\", \"Apple\", \"Dragon Fruit\"]\n",
    "d.append(\"Watermelon\")\n",
    "print(d)"
   ]
  },
  {
   "cell_type": "code",
   "execution_count": 8,
   "id": "8f947b56",
   "metadata": {},
   "outputs": [
    {
     "name": "stdout",
     "output_type": "stream",
     "text": [
      "Watermelon\n"
     ]
    }
   ],
   "source": [
    "# Q3. For the above created list print the last element.\n",
    "print(d[4])"
   ]
  },
  {
   "cell_type": "code",
   "execution_count": 9,
   "id": "b01c172d",
   "metadata": {},
   "outputs": [
    {
     "name": "stdout",
     "output_type": "stream",
     "text": [
      "['Watermelon', 'Dragon Fruit', 'Apple', 'Banana', 'Orange']\n"
     ]
    }
   ],
   "source": [
    "# Q4. Reverse the above created list.\n",
    "print(d[::-1])"
   ]
  },
  {
   "cell_type": "code",
   "execution_count": 16,
   "id": "b6c6a201",
   "metadata": {},
   "outputs": [
    {
     "name": "stdout",
     "output_type": "stream",
     "text": [
      "['Apple', 'Banana', 'Dragon Fruit', 'Orange', 'Watermelon']\n"
     ]
    }
   ],
   "source": [
    "# Q5. Sort the above created list.\n",
    "d.sort()\n",
    "print(d)"
   ]
  },
  {
   "cell_type": "code",
   "execution_count": 17,
   "id": "8c57b587",
   "metadata": {},
   "outputs": [
    {
     "name": "stdout",
     "output_type": "stream",
     "text": [
      "Tiger Zinda Hai\n"
     ]
    }
   ],
   "source": [
    "# Q6. Create a list of your top three favorite movies, then print the second movie title.\n",
    "movies = [\"Bang Bang\" , \"Tiger Zinda Hai\", \"Shootout At Wadala\"]\n",
    "print(movies[1])"
   ]
  },
  {
   "cell_type": "code",
   "execution_count": 20,
   "id": "ce07850d",
   "metadata": {},
   "outputs": [
    {
     "name": "stdout",
     "output_type": "stream",
     "text": [
      "['Donkey', 'Dog', 'Monkey', 'Tiger', 'Lion']\n"
     ]
    }
   ],
   "source": [
    "# Q7. Create a list of your favorite animals, then add a new animal to the list and print the updated list.\n",
    "animals = [\"Donkey\", \"Dog\", \"Monkey\", \"Tiger\"]\n",
    "animals.append(\"Lion\")\n",
    "print(animals)"
   ]
  },
  {
   "cell_type": "code",
   "execution_count": 23,
   "id": "9d431196",
   "metadata": {},
   "outputs": [
    {
     "name": "stdout",
     "output_type": "stream",
     "text": [
      "1\n",
      "3\n"
     ]
    }
   ],
   "source": [
    "# Q8. Create a list of your favorite cities, then use the index() method to find the position of a specific city\n",
    "# on the list and print it.\n",
    "\n",
    "cities = [\"America\",\"France\",\"Germany\",\"Czech Republic\"]\n",
    "print(cities.index(\"France\"))\n",
    "print(cities.index(\"Czech Republic\"))"
   ]
  },
  {
   "cell_type": "code",
   "execution_count": null,
   "id": "25b9c25a",
   "metadata": {},
   "outputs": [],
   "source": []
  }
 ],
 "metadata": {
  "kernelspec": {
   "display_name": "Python 3 (ipykernel)",
   "language": "python",
   "name": "python3"
  },
  "language_info": {
   "codemirror_mode": {
    "name": "ipython",
    "version": 3
   },
   "file_extension": ".py",
   "mimetype": "text/x-python",
   "name": "python",
   "nbconvert_exporter": "python",
   "pygments_lexer": "ipython3",
   "version": "3.10.9"
  }
 },
 "nbformat": 4,
 "nbformat_minor": 5
}
