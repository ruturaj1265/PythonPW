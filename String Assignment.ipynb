{
 "cells": [
  {
   "cell_type": "code",
   "execution_count": 1,
   "id": "0fe1489d",
   "metadata": {},
   "outputs": [
    {
     "name": "stdout",
     "output_type": "stream",
     "text": [
      "'\n"
     ]
    }
   ],
   "source": [
    "# Q1. How can we store a s1ngle quote (‘) as a str1ng 1n a var1able?\n",
    "# Ans. we can store a single quote (') as a string by using double quotes.\n",
    "name = \"'\"\n",
    "print(name)"
   ]
  },
  {
   "cell_type": "code",
   "execution_count": 2,
   "id": "17a99f8c",
   "metadata": {},
   "outputs": [],
   "source": [
    "# Q.02 Q/Q Refer the below var1able:\n",
    "# x = 'a'\n",
    "# Here, is x a character type or string type var1able? Support your answer w1th an explanat1on.\n",
    "# Ans.--->\n",
    "# The variable x is a variable.\n",
    "# Strings in Python are enclosed in either single quotes (') or double quotes (\"). In this case, the value assigned to x is enclosed in single quotes, which denotes a string literal.\n",
    "# Even though the length of the string is 1, it is still considered a string type because Python does not have a separate character type.\n",
    "# in Python, a character is essentially a string of length\n",
    "# So, x is a variable with the value 'a', representing a string consisting of a single character 'a'."
   ]
  },
  {
   "cell_type": "code",
   "execution_count": 14,
   "id": "4ffd0b42",
   "metadata": {},
   "outputs": [
    {
     "name": "stdout",
     "output_type": "stream",
     "text": [
      "1\n",
      "18\n",
      "35\n",
      "Welcome to python foundation cource\n"
     ]
    }
   ],
   "source": [
    "#Q.3 Apply the follow1ng funct1ons on th1s var1able: ‘Welcome to Python foundation course'\n",
    "# find()\n",
    "# count()\n",
    "# len()\n",
    "# concatenation\n",
    "#Ans.--->\n",
    "\n",
    "line = 'Welcome to Python foundation course'\n",
    "print(line.count('l'))\n",
    "print(line.find('foundation'))\n",
    "print(len(line))\n",
    "# Concatenation function\n",
    "\n",
    "name1 = 'Welcome to python'\n",
    "name2 = 'foundation cource'\n",
    "names = name1 + ' ' + name2\n",
    "print(names)"
   ]
  },
  {
   "cell_type": "code",
   "execution_count": 32,
   "id": "be8d7ed3",
   "metadata": {},
   "outputs": [
    {
     "name": "stdout",
     "output_type": "stream",
     "text": [
      "Total number of lowercase alphabets: 4\n",
      "Total number of uppercase alphabets: 2\n",
      "Total number of numerical characters: 5\n"
     ]
    }
   ],
   "source": [
    "# Q4. For the var1able: word = ‘PanaJ1@T//56(\n",
    "# Calculate the follow1ng:\n",
    "# (a) Total number of alphabets 1n lowercase\n",
    "# (b) Total number of alphabets 1n uppercase\n",
    "# (c) Total number of numer1cal 1n str1ng\n",
    "#Ans. \n",
    "word = 'PanaJi@12256'\n",
    "lowercase_count = sum(1 for char in word if char.islower())\n",
    "print(\"Total number of lowercase alphabets:\", lowercase_count)\n",
    "\n",
    "uppercase_count = sum(1 for char in word if char.isupper())\n",
    "print(\"Total number of uppercase alphabets:\", uppercase_count)\n",
    "\n",
    "numeric_count = sum(1 for char in word if char.isdigit())\n",
    "print(\"Total number of numerical characters:\", numeric_count)"
   ]
  },
  {
   "cell_type": "code",
   "execution_count": 16,
   "id": "481d1e8c",
   "metadata": {},
   "outputs": [
    {
     "name": "stdout",
     "output_type": "stream",
     "text": [
      "1\n",
      "1\n"
     ]
    }
   ],
   "source": [
    "# Q5. Wr1te a code to store a numerical value inside a var1able then convert 1t 1nto string.\n",
    "#Ans. \n",
    "\n",
    "number = 1      # Here we have stored a numerical value inside a variable\n",
    "print(number)\n",
    "\n",
    "number1 = '1'   # In this code we have converted numerical value into string and saved it into variable.\n",
    "print(number1)"
   ]
  },
  {
   "cell_type": "code",
   "execution_count": null,
   "id": "0a2d4785",
   "metadata": {},
   "outputs": [],
   "source": [
    "\n"
   ]
  }
 ],
 "metadata": {
  "kernelspec": {
   "display_name": "Python 3 (ipykernel)",
   "language": "python",
   "name": "python3"
  },
  "language_info": {
   "codemirror_mode": {
    "name": "ipython",
    "version": 3
   },
   "file_extension": ".py",
   "mimetype": "text/x-python",
   "name": "python",
   "nbconvert_exporter": "python",
   "pygments_lexer": "ipython3",
   "version": "3.10.9"
  }
 },
 "nbformat": 4,
 "nbformat_minor": 5
}
